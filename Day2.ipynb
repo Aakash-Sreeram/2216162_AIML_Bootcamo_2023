{
  "nbformat": 4,
  "nbformat_minor": 0,
  "metadata": {
    "colab": {
      "provenance": [],
      "include_colab_link": true
    },
    "kernelspec": {
      "name": "python3",
      "display_name": "Python 3"
    },
    "language_info": {
      "name": "python"
    }
  },
  "cells": [
    {
      "cell_type": "markdown",
      "metadata": {
        "id": "view-in-github",
        "colab_type": "text"
      },
      "source": [
        "<a href=\"https://colab.research.google.com/github/Aakash-Sreeram/2216162_AIML_Bootcamp_2023/blob/main/Day2.ipynb\" target=\"_parent\"><img src=\"https://colab.research.google.com/assets/colab-badge.svg\" alt=\"Open In Colab\"/></a>"
      ]
    },
    {
      "cell_type": "code",
      "execution_count": null,
      "metadata": {
        "colab": {
          "base_uri": "https://localhost:8080/"
        },
        "id": "gfgoU8wdADxJ",
        "outputId": "e310cf8d-844e-4106-ccbc-2ea032d6995a"
      },
      "outputs": [
        {
          "output_type": "stream",
          "name": "stdout",
          "text": [
            "15\n",
            "5\n",
            "50\n",
            "100000\n",
            "2.0\n",
            "2\n",
            "0\n"
          ]
        }
      ],
      "source": [
        "#arithmetic opertaors\n",
        "a=10\n",
        "b=5\n",
        "print(a+b)\n",
        "print(a-b)\n",
        "print(a*b)\n",
        "print(a**b)\n",
        "print(a/b)\n",
        "print(a//b)\n",
        "print(a%b)"
      ]
    },
    {
      "cell_type": "code",
      "source": [
        "#comparison operators\n",
        "a==b\n",
        "a<=b\n",
        "a>=b\n",
        "a>>b\n",
        "a!=b"
      ],
      "metadata": {
        "colab": {
          "base_uri": "https://localhost:8080/"
        },
        "id": "LCu3jZBzA9zd",
        "outputId": "21694863-4513-4a30-ea07-65e925f528a7"
      },
      "execution_count": null,
      "outputs": [
        {
          "output_type": "execute_result",
          "data": {
            "text/plain": [
              "True"
            ]
          },
          "metadata": {},
          "execution_count": 3
        }
      ]
    },
    {
      "cell_type": "code",
      "source": [
        "#assignment operators\n",
        "a=10\n",
        "b=5\n",
        "c=a+b\n",
        "c-=a\n",
        "c=c-a\n",
        "print(c)"
      ],
      "metadata": {
        "colab": {
          "base_uri": "https://localhost:8080/"
        },
        "id": "Lxsb6wk7A3Bu",
        "outputId": "76c98252-e202-47a8-cf4d-b293bed3f46c"
      },
      "execution_count": null,
      "outputs": [
        {
          "output_type": "stream",
          "name": "stdout",
          "text": [
            "-5\n"
          ]
        }
      ]
    },
    {
      "cell_type": "code",
      "source": [
        "#logical operators\n",
        "x=True\n",
        "y=False\n",
        "print(x and y)\n",
        "print(x or y)\n",
        "print(not y)"
      ],
      "metadata": {
        "colab": {
          "base_uri": "https://localhost:8080/"
        },
        "id": "mNTorymLBoMj",
        "outputId": "75a63b3b-8fa6-46e3-a6bd-d174c7ee376d"
      },
      "execution_count": null,
      "outputs": [
        {
          "output_type": "stream",
          "name": "stdout",
          "text": [
            "False\n",
            "True\n",
            "True\n"
          ]
        }
      ]
    },
    {
      "cell_type": "code",
      "source": [
        "#bitise opertaors\n",
        "a=13 #0000 1101\n",
        "b=14 #0000 1110\n",
        "print(a&b)#and\n",
        "print(a|b) #or\n",
        "print(~a)\n",
        "print(a>>2)\n",
        "print(a<<2)"
      ],
      "metadata": {
        "colab": {
          "base_uri": "https://localhost:8080/"
        },
        "id": "IoSRWOysCwTf",
        "outputId": "fc14ec35-d60e-477a-f52f-0e7cd585d70c"
      },
      "execution_count": null,
      "outputs": [
        {
          "output_type": "stream",
          "name": "stdout",
          "text": [
            "12\n",
            "15\n",
            "-14\n",
            "3\n",
            "52\n"
          ]
        }
      ]
    },
    {
      "cell_type": "code",
      "source": [
        "#membership opertors\n",
        "x=\"hello world\"\n",
        "print('w' in x)"
      ],
      "metadata": {
        "colab": {
          "base_uri": "https://localhost:8080/"
        },
        "id": "RPsn0SKmE1rN",
        "outputId": "1f8dfd32-a8ca-4456-e579-d6bc956c70de"
      },
      "execution_count": null,
      "outputs": [
        {
          "output_type": "stream",
          "name": "stdout",
          "text": [
            "True\n"
          ]
        }
      ]
    },
    {
      "cell_type": "code",
      "source": [
        "#identity operator\n",
        "x1=5\n",
        "y1=5\n",
        "x2=\"hello\"\n",
        "y2=\"hello\"\n",
        "x3=[1,2,3]\n",
        "y3=[1,2,3]\n",
        "print(x1 is not y1)\n",
        "print(x2 is y2)\n",
        "print(x3 in y3)"
      ],
      "metadata": {
        "colab": {
          "base_uri": "https://localhost:8080/"
        },
        "id": "D3oILwExFEQd",
        "outputId": "b6fb508d-10ca-4d19-99c2-297d5f811fb4"
      },
      "execution_count": null,
      "outputs": [
        {
          "output_type": "stream",
          "name": "stdout",
          "text": [
            "False\n",
            "True\n",
            "False\n"
          ]
        }
      ]
    },
    {
      "cell_type": "code",
      "source": [
        "a=input(\"enter string:\")\n",
        "print(a)\n",
        "b=input(\"enter string:\")\n",
        "print(b)\n"
      ],
      "metadata": {
        "colab": {
          "base_uri": "https://localhost:8080/"
        },
        "id": "cKrcsaDdF7Tl",
        "outputId": "ba040c0b-f958-4912-e66f-c5b6f196c43d"
      },
      "execution_count": null,
      "outputs": [
        {
          "output_type": "stream",
          "name": "stdout",
          "text": [
            "enter string:hello\n",
            "hello\n",
            "enter string:aakash\n",
            "aakash\n"
          ]
        }
      ]
    },
    {
      "cell_type": "code",
      "source": [
        "#strings\n",
        "str=\"gradstellar\"\n",
        "#indexing\n",
        "print(str[0])\n",
        "print(str[-1])\n",
        "#slicing\n",
        "print(str[0:7:2])\n",
        "#reverse a string\n",
        "print(str[::-1])\n",
        "#string methods\n",
        "n=\"Im a Student\"\n",
        "print(n.upper())\n",
        "print(n.lower())"
      ],
      "metadata": {
        "colab": {
          "base_uri": "https://localhost:8080/"
        },
        "id": "j4P7GLFvHVBD",
        "outputId": "9f14dc76-6420-4e91-804a-9d6d5b67fa85"
      },
      "execution_count": null,
      "outputs": [
        {
          "output_type": "stream",
          "name": "stdout",
          "text": [
            "g\n",
            "r\n",
            "gase\n",
            "ralletsdarg\n",
            "IM A STUDENT\n",
            "im a student\n"
          ]
        }
      ]
    },
    {
      "cell_type": "code",
      "source": [
        "dir(str)"
      ],
      "metadata": {
        "colab": {
          "base_uri": "https://localhost:8080/"
        },
        "id": "vZ9czq_8Iab6",
        "outputId": "2fcf09f6-3b48-42cb-cf5c-0ba43c75aaa0"
      },
      "execution_count": null,
      "outputs": [
        {
          "output_type": "execute_result",
          "data": {
            "text/plain": [
              "['__add__',\n",
              " '__class__',\n",
              " '__contains__',\n",
              " '__delattr__',\n",
              " '__dir__',\n",
              " '__doc__',\n",
              " '__eq__',\n",
              " '__format__',\n",
              " '__ge__',\n",
              " '__getattribute__',\n",
              " '__getitem__',\n",
              " '__getnewargs__',\n",
              " '__gt__',\n",
              " '__hash__',\n",
              " '__init__',\n",
              " '__init_subclass__',\n",
              " '__iter__',\n",
              " '__le__',\n",
              " '__len__',\n",
              " '__lt__',\n",
              " '__mod__',\n",
              " '__mul__',\n",
              " '__ne__',\n",
              " '__new__',\n",
              " '__reduce__',\n",
              " '__reduce_ex__',\n",
              " '__repr__',\n",
              " '__rmod__',\n",
              " '__rmul__',\n",
              " '__setattr__',\n",
              " '__sizeof__',\n",
              " '__str__',\n",
              " '__subclasshook__',\n",
              " 'capitalize',\n",
              " 'casefold',\n",
              " 'center',\n",
              " 'count',\n",
              " 'encode',\n",
              " 'endswith',\n",
              " 'expandtabs',\n",
              " 'find',\n",
              " 'format',\n",
              " 'format_map',\n",
              " 'index',\n",
              " 'isalnum',\n",
              " 'isalpha',\n",
              " 'isascii',\n",
              " 'isdecimal',\n",
              " 'isdigit',\n",
              " 'isidentifier',\n",
              " 'islower',\n",
              " 'isnumeric',\n",
              " 'isprintable',\n",
              " 'isspace',\n",
              " 'istitle',\n",
              " 'isupper',\n",
              " 'join',\n",
              " 'ljust',\n",
              " 'lower',\n",
              " 'lstrip',\n",
              " 'maketrans',\n",
              " 'partition',\n",
              " 'replace',\n",
              " 'rfind',\n",
              " 'rindex',\n",
              " 'rjust',\n",
              " 'rpartition',\n",
              " 'rsplit',\n",
              " 'rstrip',\n",
              " 'split',\n",
              " 'splitlines',\n",
              " 'startswith',\n",
              " 'strip',\n",
              " 'swapcase',\n",
              " 'title',\n",
              " 'translate',\n",
              " 'upper',\n",
              " 'zfill']"
            ]
          },
          "metadata": {},
          "execution_count": 10
        }
      ]
    },
    {
      "cell_type": "code",
      "source": [
        "#string formats\n",
        "name=\"nikhitha\"\n",
        "language=\"English\"\n",
        "year=2023\n",
        "print(name,\"is teaching\",language,\"in\",year)\n",
        "#raw string\n",
        "print(f\"{name} is teaching {language}  in {year}\")"
      ],
      "metadata": {
        "colab": {
          "base_uri": "https://localhost:8080/"
        },
        "id": "_ToxkK-pJTK4",
        "outputId": "6440e6f1-5727-4305-c681-d4a5429e4d9c"
      },
      "execution_count": null,
      "outputs": [
        {
          "output_type": "stream",
          "name": "stdout",
          "text": [
            "nikhitha is teaching English in 2023\n",
            "nikhitha is teaching English  in 2023\n"
          ]
        }
      ]
    },
    {
      "cell_type": "code",
      "source": [
        "#list\n",
        "list=[1,2,3,4]\n",
        "list1=[1,\"hello\",\"3.0\"]\n",
        "list2=[\"apple\",\"banana\",\"cherry\"]\n",
        "#indexing\n",
        "print(list[2])\n",
        "print(list[-1])\n",
        "#slicing\n",
        "print(list[:3])\n",
        "#nested list\n",
        "list3=[\"dragonfruit\",list,list[1]]\n",
        "print(list3[0][0:6])\n",
        "print(list3[0][6:11])\n",
        "list.append(5)\n",
        "print(list)\n",
        "l1=[4,1,4,5,6,7,89,0,1,2]\n",
        "print(l1.count(1))\n",
        "print(len(l1))\n",
        "l1.reverse()\n",
        "print(l1)\n",
        "l1.sort()\n"
      ],
      "metadata": {
        "colab": {
          "base_uri": "https://localhost:8080/"
        },
        "id": "I-4E_gxpLIbG",
        "outputId": "45ba23ba-41db-4e79-f9a4-bcfc5ec389f7"
      },
      "execution_count": null,
      "outputs": [
        {
          "output_type": "stream",
          "name": "stdout",
          "text": [
            "3\n",
            "4\n",
            "[1, 2, 3]\n",
            "dragon\n",
            "fruit\n",
            "[1, 2, 3, 4, 5]\n",
            "2\n",
            "10\n",
            "[2, 1, 0, 89, 7, 6, 5, 4, 1, 4]\n"
          ]
        }
      ]
    },
    {
      "cell_type": "code",
      "source": [],
      "metadata": {
        "id": "JpnyAqI0SDY-"
      },
      "execution_count": null,
      "outputs": []
    }
  ]
}
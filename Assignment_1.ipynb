{
  "nbformat": 4,
  "nbformat_minor": 0,
  "metadata": {
    "colab": {
      "provenance": [],
      "authorship_tag": "ABX9TyOF5QeFM40cwHKiFG89hwIe",
      "include_colab_link": true
    },
    "kernelspec": {
      "name": "python3",
      "display_name": "Python 3"
    },
    "language_info": {
      "name": "python"
    }
  },
  "cells": [
    {
      "cell_type": "markdown",
      "metadata": {
        "id": "view-in-github",
        "colab_type": "text"
      },
      "source": [
        "<a href=\"https://colab.research.google.com/github/Aakash-Sreeram/2216162_AIML_Bootcamp_2023/blob/main/Assignment_1.ipynb\" target=\"_parent\"><img src=\"https://colab.research.google.com/assets/colab-badge.svg\" alt=\"Open In Colab\"/></a>"
      ]
    },
    {
      "cell_type": "markdown",
      "source": [
        "#####1. Methods of strings"
      ],
      "metadata": {
        "id": "alpqY7PZUW1v"
      }
    },
    {
      "cell_type": "code",
      "execution_count": null,
      "metadata": {
        "id": "7SjulzzJ3xqp",
        "colab": {
          "base_uri": "https://localhost:8080/"
        },
        "outputId": "eff3971d-4b69-4293-e018-e4752e6b8aff"
      },
      "outputs": [
        {
          "output_type": "stream",
          "name": "stdout",
          "text": [
            "Aakash sreeram\n",
            "4\n",
            "False\n",
            "-1\n",
            "Aakash Sreeram\n",
            "3\n",
            "False\n"
          ]
        }
      ],
      "source": [
        "name=\"aakash sreeram\"\n",
        "print(name.capitalize())\n",
        "print(name.count('a'))\n",
        "print(name.endswith('e'))\n",
        "print(name.find('d'))\n",
        "print(name.title())\n",
        "print(name.index('a',2,10))\n",
        "print(name.isalpha())"
      ]
    },
    {
      "cell_type": "markdown",
      "source": [
        "#####2. Methods of list"
      ],
      "metadata": {
        "id": "FdMXTcqYU22w"
      }
    },
    {
      "cell_type": "code",
      "source": [
        "num=[10, 11, 13, 14, 15]\n",
        "print(num)\n",
        "print(len(num))\n",
        "num.append('16')\n",
        "print(num)\n",
        "num.insert(2,12)\n",
        "print(num)\n",
        "num1=[1, 2, 3]\n",
        "num.extend(num1)\n",
        "print(num)\n",
        "num.remove(11)\n",
        "print(num)\n",
        "num.pop(0)\n",
        "print(num)\n",
        "del num[6]\n",
        "print(num)\n",
        "num.reverse()\n",
        "print(num)\n",
        "num.clear()\n",
        "print(num)"
      ],
      "metadata": {
        "colab": {
          "base_uri": "https://localhost:8080/"
        },
        "id": "3AH-zDvAQIIK",
        "outputId": "2ee5d5fc-5031-4080-c4bb-04de3e7b2db0"
      },
      "execution_count": null,
      "outputs": [
        {
          "output_type": "stream",
          "name": "stdout",
          "text": [
            "[10, 11, 13, 14, 15]\n",
            "5\n",
            "[10, 11, 13, 14, 15, '16']\n",
            "[10, 11, 12, 13, 14, 15, '16']\n",
            "[10, 11, 12, 13, 14, 15, '16', 1, 2, 3]\n",
            "[10, 12, 13, 14, 15, '16', 1, 2, 3]\n",
            "[12, 13, 14, 15, '16', 1, 2, 3]\n",
            "[12, 13, 14, 15, '16', 1, 3]\n",
            "[3, 1, '16', 15, 14, 13, 12]\n",
            "[]\n"
          ]
        }
      ]
    },
    {
      "cell_type": "markdown",
      "source": [
        "#####3. Methods of tuple"
      ],
      "metadata": {
        "id": "0PT5Md-0VMmT"
      }
    },
    {
      "cell_type": "code",
      "source": [
        "t=('chair','key','car','chair')\n",
        "print(t)\n",
        "print(len(t))\n",
        "y=('fan',)\n",
        "t+=y\n",
        "print(t)\n",
        "x=t.count('chair')\n",
        "print(x)\n",
        "z=t.index('key')\n",
        "print(z)"
      ],
      "metadata": {
        "colab": {
          "base_uri": "https://localhost:8080/"
        },
        "id": "ZqINygJzRAsA",
        "outputId": "00b3eaee-4d8a-4a3b-de5f-199a72338b79"
      },
      "execution_count": null,
      "outputs": [
        {
          "output_type": "stream",
          "name": "stdout",
          "text": [
            "('chair', 'key', 'car', 'chair')\n",
            "4\n",
            "('chair', 'key', 'car', 'chair', 'fan')\n",
            "2\n",
            "1\n"
          ]
        }
      ]
    },
    {
      "cell_type": "markdown",
      "source": [
        "#####4. Methods of dictionary"
      ],
      "metadata": {
        "id": "FrJI90O-VT5j"
      }
    },
    {
      "cell_type": "code",
      "source": [
        "d={\"name\":\"grad\",\"surname\":\"stellar\",\"no\":20010}\n",
        "print(d)\n",
        "d.update({'year':2000})\n",
        "print(d)\n",
        "x=d.get(\"name\")\n",
        "print(x)\n",
        "y=d.items()\n",
        "print(y)\n",
        "z=d.values()\n",
        "print(z)\n",
        "d.pop(\"surname\")\n",
        "print(d)\n",
        "d.popitem()\n",
        "print(d)\n",
        "d.clear()\n",
        "print(d)"
      ],
      "metadata": {
        "colab": {
          "base_uri": "https://localhost:8080/"
        },
        "id": "tJb7JopKRaA8",
        "outputId": "b3fa9ee8-0ebd-420a-9eb7-0395060f0932"
      },
      "execution_count": null,
      "outputs": [
        {
          "output_type": "stream",
          "name": "stdout",
          "text": [
            "{'name': 'grad', 'surname': 'stellar', 'no': 20010}\n",
            "{'name': 'grad', 'surname': 'stellar', 'no': 20010, 'year': 2000}\n",
            "grad\n",
            "dict_items([('name', 'grad'), ('surname', 'stellar'), ('no', 20010), ('year', 2000)])\n",
            "dict_values(['grad', 'stellar', 20010, 2000])\n",
            "{'name': 'grad', 'no': 20010, 'year': 2000}\n",
            "{'name': 'grad', 'no': 20010}\n",
            "{}\n"
          ]
        }
      ]
    },
    {
      "cell_type": "markdown",
      "source": [
        "#####5. Methods of sets"
      ],
      "metadata": {
        "id": "CNGaqj7FVYPY"
      }
    },
    {
      "cell_type": "code",
      "source": [
        "s1={5,6,7,8,9,10}\n",
        "s2={1,2,3,4,5,6}\n",
        "s1|s2\n",
        "print(s1.union(s2))\n",
        "s1&s2\n",
        "print(s1.intersection(s2))\n",
        "print(s1.difference(s2))\n",
        "s1^s2\n",
        "print(s1.issubset(s2))\n",
        "s1.add(9)\n",
        "print(s1)\n",
        "s3=s1.copy()\n",
        "print(s3)\n",
        "s2.pop()\n",
        "print(s2)\n",
        "s2.remove(6)\n",
        "print(s2)\n",
        "s4={19,18,17}\n",
        "s1.update(s4)\n",
        "print(s1)\n",
        "s1.discard(6)\n",
        "print(s1)\n",
        "s1.clear()\n",
        "print(s1)"
      ],
      "metadata": {
        "colab": {
          "base_uri": "https://localhost:8080/"
        },
        "id": "gCGr54wgRsSD",
        "outputId": "00383599-7266-4b10-9001-3bfc00892569"
      },
      "execution_count": null,
      "outputs": [
        {
          "output_type": "stream",
          "name": "stdout",
          "text": [
            "{1, 2, 3, 4, 5, 6, 7, 8, 9, 10}\n",
            "{5, 6}\n",
            "{8, 9, 10, 7}\n",
            "False\n",
            "{5, 6, 7, 8, 9, 10}\n",
            "{5, 6, 7, 8, 9, 10}\n",
            "{2, 3, 4, 5, 6}\n",
            "{2, 3, 4, 5}\n",
            "{5, 6, 7, 8, 9, 10, 17, 18, 19}\n",
            "{5, 7, 8, 9, 10, 17, 18, 19}\n",
            "set()\n"
          ]
        }
      ]
    },
    {
      "cell_type": "markdown",
      "source": [
        "#####6. Decimal to Binary, Octal and Hexadecimal conversion with direct method."
      ],
      "metadata": {
        "id": "X4D5wF4fVdWs"
      }
    },
    {
      "cell_type": "code",
      "source": [
        "n = int(input(\"Enter an integer: \"))\n",
        "print(\"The decimal value of\", n, \"is:\\n\", bin(n), \"in binary\\n\", oct(n), \"in octal\\n\", hex(n), \"in hexadecimal.\")"
      ],
      "metadata": {
        "colab": {
          "base_uri": "https://localhost:8080/"
        },
        "id": "wzlKwmM0R7uC",
        "outputId": "8f494a67-5f6d-4446-9a1f-8f0e7b6e5bbe"
      },
      "execution_count": null,
      "outputs": [
        {
          "output_type": "stream",
          "name": "stdout",
          "text": [
            "Enter an integer: 1\n",
            "The decimal value of 1 is:\n",
            " 0b1 in binary\n",
            " 0o1 in octal\n",
            " 0x1 in hexadecimal.\n"
          ]
        }
      ]
    },
    {
      "cell_type": "markdown",
      "source": [
        "#####7. Arthmetic operators"
      ],
      "metadata": {
        "id": "wTSxvCAtVpCO"
      }
    },
    {
      "cell_type": "code",
      "source": [
        "a=int(input(\"Enter first integer:\"))\n",
        "b=int(input(\"Enter second integer:\"))\n",
        "print(\"sum of \",a,\"and\",b,\"is\",(a+b))\n",
        "print(\"subtraction of\",a,\"and\",b,\"is\",(a-b))\n",
        "print(\"multiplication of\",a,\"and\",b,\"is\",(a*b))\n",
        "print(\"division of\",a,\"and\",b,\"is\",(a/b))\n",
        "print(\"modulus of\",a,\"and\",b,\"is\",(a%b))\n",
        "print(\"floor division of\",a,\"and\",b,\"is\",(a//b))\n",
        "print(\"power of\",a,\"and\",b,\"is\",(a**b))"
      ],
      "metadata": {
        "colab": {
          "base_uri": "https://localhost:8080/"
        },
        "id": "M8WC0SldSfQt",
        "outputId": "7ba5858b-c055-418e-d8b0-b46cdf84c254"
      },
      "execution_count": null,
      "outputs": [
        {
          "output_type": "stream",
          "name": "stdout",
          "text": [
            "Enter first integer:2\n",
            "Enter second integer:3\n",
            "sum of  2 and 3 is 5\n",
            "subtraction of 2 and 3 is -1\n",
            "multiplication of 2 and 3 is 6\n",
            "division of 2 and 3 is 0.6666666666666666\n",
            "modulus of 2 and 3 is 2\n",
            "floor division of 2 and 3 is 0\n",
            "power of 2 and 3 is 8\n"
          ]
        }
      ]
    },
    {
      "cell_type": "markdown",
      "source": [
        "#####8. Assignment operators"
      ],
      "metadata": {
        "id": "MRlyT-OrVwUk"
      }
    },
    {
      "cell_type": "code",
      "source": [
        "a=int(input(\"Enter first integer:\"))\n",
        "b=int(input(\"Enter second integer:\"))\n",
        "a+=b\n",
        "print(a)\n",
        "a-=b\n",
        "print(a)\n",
        "a*=b\n",
        "print(a)\n",
        "a/=b\n",
        "print(a)\n",
        "a**=b\n",
        "print(a)\n",
        "a//=b\n",
        "print(a)\n",
        "a%=b\n",
        "print(a)"
      ],
      "metadata": {
        "colab": {
          "base_uri": "https://localhost:8080/"
        },
        "id": "vDXBF5R_SonH",
        "outputId": "b7779d69-687a-4ab4-9bec-04bc84adacb5"
      },
      "execution_count": null,
      "outputs": [
        {
          "output_type": "stream",
          "name": "stdout",
          "text": [
            "Enter first integer:2\n",
            "Enter second integer:1\n",
            "3\n",
            "2\n",
            "2\n",
            "2.0\n",
            "2.0\n",
            "2.0\n",
            "0.0\n"
          ]
        }
      ]
    },
    {
      "cell_type": "markdown",
      "source": [
        "#####9. Comparision operators"
      ],
      "metadata": {
        "id": "IuCJEJqoVzy5"
      }
    },
    {
      "cell_type": "code",
      "source": [
        "a=int(input(\"Enter first integer:\"))\n",
        "b=int(input(\"Enter second integer:\"))\n",
        "print((a<b))\n",
        "print((a<=b))\n",
        "print((a>b))\n",
        "print((a>=b))\n",
        "print((a==b))\n",
        "print((a!=b))"
      ],
      "metadata": {
        "colab": {
          "base_uri": "https://localhost:8080/"
        },
        "id": "EiWKd1t7SzbN",
        "outputId": "b86706ed-4f68-4e60-d55b-48f2766e95a9"
      },
      "execution_count": null,
      "outputs": [
        {
          "output_type": "stream",
          "name": "stdout",
          "text": [
            "Enter first integer:3\n",
            "Enter second integer:5\n",
            "True\n",
            "True\n",
            "False\n",
            "False\n",
            "False\n",
            "True\n"
          ]
        }
      ]
    },
    {
      "cell_type": "markdown",
      "source": [
        "#####10. Logical operators"
      ],
      "metadata": {
        "id": "EP0Hze9kV30R"
      }
    },
    {
      "cell_type": "code",
      "source": [
        "a=int(input(\"Enter first integer:\"))\n",
        "a=int(input(\"Enter second integer:\"))\n",
        "print((a>b)and(a<b))\n",
        "print((a<b)or(a>b))\n",
        "print(not(a!=b))"
      ],
      "metadata": {
        "colab": {
          "base_uri": "https://localhost:8080/"
        },
        "id": "IIAz4VtxS7C9",
        "outputId": "cfde7923-9bcf-42cb-fe81-2bbc6e7a5634"
      },
      "execution_count": null,
      "outputs": [
        {
          "output_type": "stream",
          "name": "stdout",
          "text": [
            "Enter first integer:8\n",
            "Enter second integer:1\n",
            "False\n",
            "True\n",
            "False\n"
          ]
        }
      ]
    },
    {
      "cell_type": "markdown",
      "source": [
        "#####11. Bitwise operators"
      ],
      "metadata": {
        "id": "IEIm8YHVV7sg"
      }
    },
    {
      "cell_type": "code",
      "source": [
        "a=int(input(\"Enter first integer:\"))\n",
        "b=int(input(\"Enter second integer:\"))\n",
        "print(a&b)\n",
        "print(a/b)\n",
        "print(a^b)\n",
        "print(a<<4)\n",
        "print(a>>1)\n",
        "print(b<<2)"
      ],
      "metadata": {
        "colab": {
          "base_uri": "https://localhost:8080/"
        },
        "id": "1BGGYOssTRka",
        "outputId": "87815d16-b398-4b92-ff32-c8e6725dd0df"
      },
      "execution_count": null,
      "outputs": [
        {
          "output_type": "stream",
          "name": "stdout",
          "text": [
            "Enter first integer:5\n",
            "Enter second integer:4\n",
            "4\n",
            "1.25\n",
            "1\n",
            "80\n",
            "2\n",
            "16\n"
          ]
        }
      ]
    },
    {
      "cell_type": "markdown",
      "source": [
        "#####12. Membership operators"
      ],
      "metadata": {
        "id": "syUwEergWAu0"
      }
    },
    {
      "cell_type": "code",
      "source": [
        "x=\"aakash\"\n",
        "print('a' in x)\n",
        "print('s' not in x)"
      ],
      "metadata": {
        "colab": {
          "base_uri": "https://localhost:8080/"
        },
        "id": "hs6TvtV_UMUl",
        "outputId": "515871a5-9cb3-4ce1-b332-57fb103a34bb"
      },
      "execution_count": null,
      "outputs": [
        {
          "output_type": "stream",
          "name": "stdout",
          "text": [
            "True\n",
            "False\n"
          ]
        }
      ]
    },
    {
      "cell_type": "markdown",
      "source": [
        "#####13. Indexing operators"
      ],
      "metadata": {
        "id": "OVK30ykEWFIx"
      }
    },
    {
      "cell_type": "code",
      "source": [
        "a=10\n",
        "b=20\n",
        "c=10\n",
        "print(a is c)\n",
        "print(a is not b)"
      ],
      "metadata": {
        "colab": {
          "base_uri": "https://localhost:8080/"
        },
        "id": "VAtaM0_pUBsR",
        "outputId": "156b888f-f6ad-4cd6-be2a-8dcbd5ed052a"
      },
      "execution_count": null,
      "outputs": [
        {
          "output_type": "stream",
          "name": "stdout",
          "text": [
            "True\n",
            "True\n"
          ]
        }
      ]
    },
    {
      "cell_type": "markdown",
      "source": [
        "#####14. List slicing indexing"
      ],
      "metadata": {
        "id": "REAC1PTxWJ2F"
      }
    },
    {
      "cell_type": "code",
      "source": [
        "l=[1,2,3,4,5,6,7,8,9]\n",
        "print(l[-7::1])\n",
        "print(l[1:4])\n",
        "print(l[1:2:8])\n",
        "print(l[::2])\n",
        "print(l[::])"
      ],
      "metadata": {
        "colab": {
          "base_uri": "https://localhost:8080/"
        },
        "id": "iRZ0cuNeT8ey",
        "outputId": "c30a84d3-cdc7-4ab5-aa9f-51b1e1392506"
      },
      "execution_count": null,
      "outputs": [
        {
          "output_type": "stream",
          "name": "stdout",
          "text": [
            "[3, 4, 5, 6, 7, 8, 9]\n",
            "[2, 3, 4]\n",
            "[2]\n",
            "[1, 3, 5, 7, 9]\n",
            "[1, 2, 3, 4, 5, 6, 7, 8, 9]\n"
          ]
        }
      ]
    },
    {
      "cell_type": "markdown",
      "source": [
        "#####15. Predict the output for the given code snippet and justify the result.\n",
        "\n"
      ],
      "metadata": {
        "id": "O6AWCXUrWTpL"
      }
    },
    {
      "cell_type": "code",
      "source": [
        "print('A series of characters designated as one object known as a string'[::-1][4::3])\n",
        "print(\"-----------\")\n",
        "print('Welcome to python traing program'[3:10][::-1])"
      ],
      "metadata": {
        "colab": {
          "base_uri": "https://localhost:8080/"
        },
        "id": "88Geg4wlb8xM",
        "outputId": "0717c244-f3f2-42d4-8134-944ebad85750"
      },
      "execution_count": null,
      "outputs": [
        {
          "output_type": "stream",
          "name": "stdout",
          "text": [
            "taawkcbe  tgestrcoeeA\n",
            "-----------\n",
            "ot emoc\n"
          ]
        }
      ]
    },
    {
      "cell_type": "markdown",
      "source": [
        "#####16."
      ],
      "metadata": {
        "id": "pq2vXza1WZJZ"
      }
    },
    {
      "cell_type": "code",
      "source": [
        "inp=input(\"Enter a string:\")\n",
        "print(inp[::-1].upper())"
      ],
      "metadata": {
        "colab": {
          "base_uri": "https://localhost:8080/"
        },
        "id": "KVMwvHoea1J9",
        "outputId": "63403411-8298-4c3b-c01e-696094e4defa"
      },
      "execution_count": null,
      "outputs": [
        {
          "output_type": "stream",
          "name": "stdout",
          "text": [
            "Enter a string:was it a car or a cat I saw\n",
            "WAS I TAC A RO RAC A TI SAW\n"
          ]
        }
      ]
    },
    {
      "cell_type": "markdown",
      "source": [
        "#####17. You are required to generate a word similar to ZOO, X and Y that denote the number of Zs and Os respectively. The generated word similar to ZOO where Y= 2 * X. \n",
        "######Input X= 2 Output ZZOOOO \n",
        "######Input X= 5 Output ZZZZZOOOOOOOOOO"
      ],
      "metadata": {
        "id": "m9RG6-rqWlH0"
      }
    },
    {
      "cell_type": "code",
      "source": [
        "x=int(input('Enter X:'))\n",
        "print(x*'Z'+ 2*x*'O')"
      ],
      "metadata": {
        "id": "LegQFdc03ali",
        "colab": {
          "base_uri": "https://localhost:8080/"
        },
        "outputId": "7d956f51-c937-4af8-f279-84c2f40d9e8a"
      },
      "execution_count": null,
      "outputs": [
        {
          "output_type": "stream",
          "name": "stdout",
          "text": [
            "Enter X:3\n",
            "ZZZOOOOOO\n"
          ]
        }
      ]
    }
  ]
}